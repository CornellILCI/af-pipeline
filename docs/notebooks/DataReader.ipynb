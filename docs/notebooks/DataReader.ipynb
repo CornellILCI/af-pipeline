{
 "cells": [
  {
   "cell_type": "markdown",
   "id": "gross-brooks",
   "metadata": {},
   "source": [
    "### Breeding Analytics data gathering module\n",
    "\n",
    "Below example show how to extract phenotype data from different data sources to be used for Anaytics pipeline.\n",
    "\n",
    "The datasources provide REST API to extract following entities,\n",
    "\n",
    "Plots - List of the plots under an experiment\n",
    "\n",
    "Plot Measurements - List of measurements for traits in each plot\n",
    "\n",
    "Occurrence - Corresponds to studies in Brapi specification\n",
    "\n",
    "Experiment - Corresponds to trial in Brapi specification\n",
    "\n",
    "Trait - Observation variables in Brapi"
   ]
  },
  {
   "cell_type": "code",
   "execution_count": 1,
   "id": "agricultural-effectiveness",
   "metadata": {},
   "outputs": [
    {
     "name": "stdout",
     "output_type": "stream",
     "text": [
      "/home/vg249/af-core\n"
     ]
    }
   ],
   "source": [
    "cd ../.."
   ]
  },
  {
   "cell_type": "code",
   "execution_count": 2,
   "id": "military-soundtrack",
   "metadata": {},
   "outputs": [],
   "source": [
    "# DataReaderFactory is factory module which generates objects to read phenotype data for a given data source\n",
    "\n",
    "from data_reader.data_reader_factory import DataReaderFactory\n",
    "\n",
    "from models.enums import DataSource "
   ]
  },
  {
   "cell_type": "markdown",
   "id": "healthy-consultation",
   "metadata": {},
   "source": [
    "### Extract data from EBS datasource"
   ]
  },
  {
   "cell_type": "code",
   "execution_count": 3,
   "id": "ongoing-stock",
   "metadata": {},
   "outputs": [],
   "source": [
    "api_url = \"https://b4rapi-uat.ebsproject.org/v3/\""
   ]
  },
  {
   "cell_type": "code",
   "execution_count": 4,
   "id": "lyric-multimedia",
   "metadata": {},
   "outputs": [],
   "source": [
    "api_token = \"eyJ4NXQiOiJaalJtWVRNd05USmpPV1U1TW1Jek1qZ3pOREkzWTJJeU1tSXlZMkV6TWpkaFpqVmlNamMwWmciLCJraWQiOiJaalJtWVRNd05USmpPV1U1TW1Jek1qZ3pOREkzWTJJeU1tSXlZMkV6TWpkaFpqVmlNamMwWmdfUlMyNTYiLCJhbGciOiJSUzI1NiJ9.eyJhdF9oYXNoIjoiLXNkVzI2OVlqREhta2lvVWVDbVlrUSIsImh0dHA6XC9cL3dzbzIub3JnXC9jbGFpbXNcL3VzZXJuYW1lIjoiMTA4OTQyNzQyODI2NzExNDc0MjQ0Iiwic3ViIjoidmcyNDlAY29ybmVsbC5lZHUiLCJodHRwOlwvXC93c28yLm9yZ1wvY2xhaW1zXC9waG90b3VybCI6Imh0dHBzOlwvXC9saDQuZ29vZ2xldXNlcmNvbnRlbnQuY29tXC8tSG1tSkJMRmRjZkFcL0FBQUFBQUFBQUFJXC9BQUFBQUFBQUFBQVwvQU1adXVjbF9yWTdQRFBJTnpZZ0NhMjZ2MVl6R3VIellkZ1wvczk2LWNcL3Bob3RvLmpwZyIsImFtciI6WyJTQU1MU1NPQXV0aGVudGljYXRvciJdLCJpc3MiOiJodHRwczpcL1wvc2cuZWJzcHJvamVjdC5vcmc6OTQ0M1wvb2F1dGgyXC90b2tlbiIsImh0dHA6XC9cL3dzbzIub3JnXC9jbGFpbXNcL2dpdmVubmFtZSI6IlZpc2hudSIsImh0dHA6XC9cL3dzbzIub3JnXC9jbGFpbXNcL2lkZW50aXR5XC9lbWFpbFZlcmlmaWVkIjoidHJ1ZSIsImF1ZCI6IlNONl96UUNxcnBwelp0bUVmVlhuRGpnVXlvd2EiLCJjX2hhc2giOiJKcUY3RWRScExNOVBreG43aWVkMzV3IiwibmJmIjoxNjE2MTcyMDU3LCJodHRwOlwvXC93c28yLm9yZ1wvY2xhaW1zXC9sb2NhbCI6ImVuIiwiaHR0cDpcL1wvd3NvMi5vcmdcL2NsYWltc1wvZnVsbG5hbWUiOiJWaXNobnUgR292aW5kYXJhaiIsImF6cCI6IlNONl96UUNxcnBwelp0bUVmVlhuRGpnVXlvd2EiLCJodHRwOlwvXC93c28yLm9yZ1wvY2xhaW1zXC9lbWFpbGFkZHJlc3MiOiJ2ZzI0OUBjb3JuZWxsLmVkdSIsImh0dHA6XC9cL3dzbzIub3JnXC9jbGFpbXNcL2xhc3RuYW1lIjoiR292aW5kYXJhaiIsImV4cCI6MTYxNjE3NTY1NywiaWF0IjoxNjE2MTcyMDU3fQ.aD8_2wyjDPl38pdnJEH2f3XsuhoegsJvVaQiDMB_1E9BQzHHtJ-gfPYd24s-8NfFrBFig30fqtEbFre6RS4iNbM6-oeq1JBVTkxKmKa318dk7yudN-JP4PaDh4NDyxyfotuz6WbzXeCmi_WUZTQFIEK6t2iP5a25yIdRkDUKgqhkVuAu03NxSK6hlmSPPrrVia0MpMtCTMGTDrLVTAvSwnlqlURZbTufwwZLycV4QWNvAMJ_XdNU4zYUQ93zbLZ1s6h28O4IElJ-3O9buYKG5QpHqd64fp0MPUjSw5L1hwj8AbdEbXglFePWoeP3mbbJ2uR4Z7J_r9bCXoIhShE-Jw\""
   ]
  },
  {
   "cell_type": "code",
   "execution_count": 5,
   "id": "metropolitan-baseline",
   "metadata": {},
   "outputs": [],
   "source": [
    "# get phenotype data interface for Ebs\n",
    "phenotype_data = DataReaderFactory(DataSource.EBS).get_pheotype_data(\n",
    "    api_base_url=api_url, \n",
    "    api_bearer_token=api_token)"
   ]
  },
  {
   "cell_type": "markdown",
   "id": "convenient-luther",
   "metadata": {},
   "source": [
    "#### Get plot and plot measurements"
   ]
  },
  {
   "cell_type": "code",
   "execution_count": 6,
   "id": "virtual-authorization",
   "metadata": {},
   "outputs": [
    {
     "ename": "DataReaderException",
     "evalue": "{'metadata': {'pagination': {'pageSize': None, 'totalCount': None, 'currentPage': None, 'totalPages': None}, 'status': [{'message': '', 'messageType': 'Unauthorized'}], 'datafiles': []}, 'result': {'data': []}}",
     "output_type": "error",
     "traceback": [
      "\u001b[0;31m---------------------------------------------------------------------------\u001b[0m",
      "\u001b[0;31mDataReaderException\u001b[0m                       Traceback (most recent call last)",
      "\u001b[0;32m<ipython-input-6-76327070e1c3>\u001b[0m in \u001b[0;36m<module>\u001b[0;34m\u001b[0m\n\u001b[0;32m----> 1\u001b[0;31m \u001b[0mphenotype_data\u001b[0m\u001b[0;34m.\u001b[0m\u001b[0mget_plots\u001b[0m\u001b[0;34m(\u001b[0m\u001b[0moccurrence_id\u001b[0m\u001b[0;34m=\u001b[0m\u001b[0;36m74\u001b[0m\u001b[0;34m)\u001b[0m\u001b[0;34m\u001b[0m\u001b[0;34m\u001b[0m\u001b[0m\n\u001b[0m",
      "\u001b[0;32m~/af-core/data_reader/phenotype_data_ebs.py\u001b[0m in \u001b[0;36mget_plots\u001b[0;34m(self, occurrence_id)\u001b[0m\n\u001b[1;32m     35\u001b[0m \u001b[0;34m\u001b[0m\u001b[0m\n\u001b[1;32m     36\u001b[0m         \u001b[0;32mif\u001b[0m \u001b[0;32mnot\u001b[0m \u001b[0mapi_response\u001b[0m\u001b[0;34m.\u001b[0m\u001b[0mis_success\u001b[0m\u001b[0;34m:\u001b[0m\u001b[0;34m\u001b[0m\u001b[0;34m\u001b[0m\u001b[0m\n\u001b[0;32m---> 37\u001b[0;31m             \u001b[0;32mraise\u001b[0m \u001b[0mDataReaderException\u001b[0m\u001b[0;34m(\u001b[0m\u001b[0mapi_response\u001b[0m\u001b[0;34m.\u001b[0m\u001b[0merror\u001b[0m\u001b[0;34m)\u001b[0m\u001b[0;34m\u001b[0m\u001b[0;34m\u001b[0m\u001b[0m\n\u001b[0m\u001b[1;32m     38\u001b[0m \u001b[0;34m\u001b[0m\u001b[0m\n\u001b[1;32m     39\u001b[0m         \u001b[0mplots_data\u001b[0m \u001b[0;34m=\u001b[0m \u001b[0mapi_response\u001b[0m\u001b[0;34m.\u001b[0m\u001b[0mbody\u001b[0m\u001b[0;34m[\u001b[0m\u001b[0;34m\"result\"\u001b[0m\u001b[0;34m]\u001b[0m\u001b[0;34m[\u001b[0m\u001b[0;34m\"data\"\u001b[0m\u001b[0;34m]\u001b[0m\u001b[0;34m\u001b[0m\u001b[0;34m\u001b[0m\u001b[0m\n",
      "\u001b[0;31mDataReaderException\u001b[0m: {'metadata': {'pagination': {'pageSize': None, 'totalCount': None, 'currentPage': None, 'totalPages': None}, 'status': [{'message': '', 'messageType': 'Unauthorized'}], 'datafiles': []}, 'result': {'data': []}}"
     ]
    }
   ],
   "source": [
    "phenotype_data.get_plots(occurrence_id=74)"
   ]
  },
  {
   "cell_type": "code",
   "execution_count": null,
   "id": "regular-mississippi",
   "metadata": {},
   "outputs": [],
   "source": [
    "phenotype_data.get_plot_measurements(occurrence_id=74)"
   ]
  },
  {
   "cell_type": "code",
   "execution_count": null,
   "id": "alpine-seminar",
   "metadata": {},
   "outputs": [],
   "source": [
    "phenotype_data.get_occurrence(occurrence_id=74)"
   ]
  },
  {
   "cell_type": "markdown",
   "id": "treated-plate",
   "metadata": {},
   "source": [
    "### Extract data from Brapi data source\n",
    "\n",
    "Edpoints used are,\n",
    "\n",
    "\"/observationunits?observationLevel=plot\" - to get plots\n",
    "\n",
    "\"/observations?observationLevel=plot\" - to get plot measurements\n",
    "\n",
    "\"studies/{studyDbId}\" - get study \n"
   ]
  },
  {
   "cell_type": "code",
   "execution_count": 7,
   "id": "labeled-eagle",
   "metadata": {},
   "outputs": [],
   "source": [
    "api_url = \"https://solgenomics.net/brapi/v2/\""
   ]
  },
  {
   "cell_type": "code",
   "execution_count": 8,
   "id": "compressed-thompson",
   "metadata": {},
   "outputs": [],
   "source": [
    "# get phenotype data interface for Brapi data soruce\n",
    "phenotype_data = DataReaderFactory(DataSource.BRAPI).get_pheotype_data(api_base_url=api_url)"
   ]
  },
  {
   "cell_type": "markdown",
   "id": "played-machine",
   "metadata": {},
   "source": [
    "#### Get plot and plot measurements"
   ]
  },
  {
   "cell_type": "code",
   "execution_count": 9,
   "id": "confirmed-oracle",
   "metadata": {},
   "outputs": [
    {
     "data": {
      "text/html": [
       "<div>\n",
       "<style scoped>\n",
       "    .dataframe tbody tr th:only-of-type {\n",
       "        vertical-align: middle;\n",
       "    }\n",
       "\n",
       "    .dataframe tbody tr th {\n",
       "        vertical-align: top;\n",
       "    }\n",
       "\n",
       "    .dataframe thead th {\n",
       "        text-align: right;\n",
       "    }\n",
       "</style>\n",
       "<table border=\"1\" class=\"dataframe\">\n",
       "  <thead>\n",
       "    <tr style=\"text-align: right;\">\n",
       "      <th></th>\n",
       "      <th>entry_id</th>\n",
       "      <th>plot_id</th>\n",
       "      <th>location_id</th>\n",
       "      <th>pa_x</th>\n",
       "      <th>rep_factor</th>\n",
       "      <th>blk</th>\n",
       "      <th>experiment_id</th>\n",
       "      <th>pa_y</th>\n",
       "      <th>occurrence_id</th>\n",
       "      <th>plot_qc</th>\n",
       "    </tr>\n",
       "  </thead>\n",
       "  <tbody>\n",
       "    <tr>\n",
       "      <th>0</th>\n",
       "      <td>30826</td>\n",
       "      <td>31089</td>\n",
       "      <td>15</td>\n",
       "      <td>1</td>\n",
       "      <td>1</td>\n",
       "      <td>1</td>\n",
       "      <td></td>\n",
       "      <td>1</td>\n",
       "      <td>68</td>\n",
       "      <td>G</td>\n",
       "    </tr>\n",
       "    <tr>\n",
       "      <th>1</th>\n",
       "      <td>30827</td>\n",
       "      <td>31016</td>\n",
       "      <td>15</td>\n",
       "      <td>1</td>\n",
       "      <td>1</td>\n",
       "      <td>1</td>\n",
       "      <td></td>\n",
       "      <td>2</td>\n",
       "      <td>68</td>\n",
       "      <td>G</td>\n",
       "    </tr>\n",
       "    <tr>\n",
       "      <th>2</th>\n",
       "      <td>30828</td>\n",
       "      <td>31122</td>\n",
       "      <td>15</td>\n",
       "      <td>1</td>\n",
       "      <td>1</td>\n",
       "      <td>1</td>\n",
       "      <td></td>\n",
       "      <td>4</td>\n",
       "      <td>68</td>\n",
       "      <td>G</td>\n",
       "    </tr>\n",
       "    <tr>\n",
       "      <th>3</th>\n",
       "      <td>30829</td>\n",
       "      <td>31129</td>\n",
       "      <td>15</td>\n",
       "      <td>1</td>\n",
       "      <td>1</td>\n",
       "      <td>1</td>\n",
       "      <td></td>\n",
       "      <td>5</td>\n",
       "      <td>68</td>\n",
       "      <td>G</td>\n",
       "    </tr>\n",
       "    <tr>\n",
       "      <th>4</th>\n",
       "      <td>30830</td>\n",
       "      <td>31046</td>\n",
       "      <td>15</td>\n",
       "      <td>1</td>\n",
       "      <td>1</td>\n",
       "      <td>1</td>\n",
       "      <td></td>\n",
       "      <td>6</td>\n",
       "      <td>68</td>\n",
       "      <td>G</td>\n",
       "    </tr>\n",
       "    <tr>\n",
       "      <th>...</th>\n",
       "      <td>...</td>\n",
       "      <td>...</td>\n",
       "      <td>...</td>\n",
       "      <td>...</td>\n",
       "      <td>...</td>\n",
       "      <td>...</td>\n",
       "      <td>...</td>\n",
       "      <td>...</td>\n",
       "      <td>...</td>\n",
       "      <td>...</td>\n",
       "    </tr>\n",
       "    <tr>\n",
       "      <th>157</th>\n",
       "      <td>29298</td>\n",
       "      <td>31113</td>\n",
       "      <td>15</td>\n",
       "      <td>2</td>\n",
       "      <td>1</td>\n",
       "      <td>1</td>\n",
       "      <td></td>\n",
       "      <td>16</td>\n",
       "      <td>68</td>\n",
       "      <td>G</td>\n",
       "    </tr>\n",
       "    <tr>\n",
       "      <th>158</th>\n",
       "      <td>29298</td>\n",
       "      <td>31038</td>\n",
       "      <td>15</td>\n",
       "      <td>2</td>\n",
       "      <td>1</td>\n",
       "      <td>1</td>\n",
       "      <td></td>\n",
       "      <td>18</td>\n",
       "      <td>68</td>\n",
       "      <td>G</td>\n",
       "    </tr>\n",
       "    <tr>\n",
       "      <th>159</th>\n",
       "      <td>29298</td>\n",
       "      <td>31039</td>\n",
       "      <td>15</td>\n",
       "      <td>4</td>\n",
       "      <td>1</td>\n",
       "      <td>1</td>\n",
       "      <td></td>\n",
       "      <td>8</td>\n",
       "      <td>68</td>\n",
       "      <td>G</td>\n",
       "    </tr>\n",
       "    <tr>\n",
       "      <th>160</th>\n",
       "      <td>29298</td>\n",
       "      <td>30983</td>\n",
       "      <td>15</td>\n",
       "      <td>5</td>\n",
       "      <td>1</td>\n",
       "      <td>1</td>\n",
       "      <td></td>\n",
       "      <td>1</td>\n",
       "      <td>68</td>\n",
       "      <td>G</td>\n",
       "    </tr>\n",
       "    <tr>\n",
       "      <th>161</th>\n",
       "      <td>29298</td>\n",
       "      <td>31055</td>\n",
       "      <td>15</td>\n",
       "      <td>6</td>\n",
       "      <td>1</td>\n",
       "      <td>1</td>\n",
       "      <td></td>\n",
       "      <td>2</td>\n",
       "      <td>68</td>\n",
       "      <td>G</td>\n",
       "    </tr>\n",
       "  </tbody>\n",
       "</table>\n",
       "<p>162 rows × 10 columns</p>\n",
       "</div>"
      ],
      "text/plain": [
       "    entry_id plot_id location_id pa_x rep_factor blk experiment_id pa_y  \\\n",
       "0      30826   31089          15    1          1   1                  1   \n",
       "1      30827   31016          15    1          1   1                  2   \n",
       "2      30828   31122          15    1          1   1                  4   \n",
       "3      30829   31129          15    1          1   1                  5   \n",
       "4      30830   31046          15    1          1   1                  6   \n",
       "..       ...     ...         ...  ...        ...  ..           ...  ...   \n",
       "157    29298   31113          15    2          1   1                 16   \n",
       "158    29298   31038          15    2          1   1                 18   \n",
       "159    29298   31039          15    4          1   1                  8   \n",
       "160    29298   30983          15    5          1   1                  1   \n",
       "161    29298   31055          15    6          1   1                  2   \n",
       "\n",
       "    occurrence_id plot_qc  \n",
       "0              68       G  \n",
       "1              68       G  \n",
       "2              68       G  \n",
       "3              68       G  \n",
       "4              68       G  \n",
       "..            ...     ...  \n",
       "157            68       G  \n",
       "158            68       G  \n",
       "159            68       G  \n",
       "160            68       G  \n",
       "161            68       G  \n",
       "\n",
       "[162 rows x 10 columns]"
      ]
     },
     "execution_count": 9,
     "metadata": {},
     "output_type": "execute_result"
    }
   ],
   "source": [
    "phenotype_data.get_plots(occurrence_id=68)"
   ]
  },
  {
   "cell_type": "code",
   "execution_count": 10,
   "id": "amazing-chinese",
   "metadata": {},
   "outputs": [
    {
     "data": {
      "text/html": [
       "<div>\n",
       "<style scoped>\n",
       "    .dataframe tbody tr th:only-of-type {\n",
       "        vertical-align: middle;\n",
       "    }\n",
       "\n",
       "    .dataframe tbody tr th {\n",
       "        vertical-align: top;\n",
       "    }\n",
       "\n",
       "    .dataframe thead th {\n",
       "        text-align: right;\n",
       "    }\n",
       "</style>\n",
       "<table border=\"1\" class=\"dataframe\">\n",
       "  <thead>\n",
       "    <tr style=\"text-align: right;\">\n",
       "      <th></th>\n",
       "      <th>trait_value</th>\n",
       "      <th>plot_id</th>\n",
       "      <th>trait_id</th>\n",
       "      <th>trait_qc</th>\n",
       "    </tr>\n",
       "  </thead>\n",
       "  <tbody>\n",
       "    <tr>\n",
       "      <th>0</th>\n",
       "      <td>2.76666666666667</td>\n",
       "      <td>31089</td>\n",
       "      <td>39966</td>\n",
       "      <td>G</td>\n",
       "    </tr>\n",
       "    <tr>\n",
       "      <th>1</th>\n",
       "      <td>3.56</td>\n",
       "      <td>31016</td>\n",
       "      <td>39966</td>\n",
       "      <td>G</td>\n",
       "    </tr>\n",
       "    <tr>\n",
       "      <th>2</th>\n",
       "      <td>7.55</td>\n",
       "      <td>31122</td>\n",
       "      <td>39966</td>\n",
       "      <td>G</td>\n",
       "    </tr>\n",
       "    <tr>\n",
       "      <th>3</th>\n",
       "      <td>3.08888888888889</td>\n",
       "      <td>31129</td>\n",
       "      <td>39966</td>\n",
       "      <td>G</td>\n",
       "    </tr>\n",
       "    <tr>\n",
       "      <th>4</th>\n",
       "      <td>7.77857142857143</td>\n",
       "      <td>31046</td>\n",
       "      <td>39966</td>\n",
       "      <td>G</td>\n",
       "    </tr>\n",
       "    <tr>\n",
       "      <th>...</th>\n",
       "      <td>...</td>\n",
       "      <td>...</td>\n",
       "      <td>...</td>\n",
       "      <td>...</td>\n",
       "    </tr>\n",
       "    <tr>\n",
       "      <th>995</th>\n",
       "      <td>24.261</td>\n",
       "      <td>31180</td>\n",
       "      <td>56263</td>\n",
       "      <td>G</td>\n",
       "    </tr>\n",
       "    <tr>\n",
       "      <th>996</th>\n",
       "      <td>33.2564</td>\n",
       "      <td>31180</td>\n",
       "      <td>56252</td>\n",
       "      <td>G</td>\n",
       "    </tr>\n",
       "    <tr>\n",
       "      <th>997</th>\n",
       "      <td>72.9655</td>\n",
       "      <td>31180</td>\n",
       "      <td>56243</td>\n",
       "      <td>G</td>\n",
       "    </tr>\n",
       "    <tr>\n",
       "      <th>998</th>\n",
       "      <td>46.8456</td>\n",
       "      <td>31180</td>\n",
       "      <td>56254</td>\n",
       "      <td>G</td>\n",
       "    </tr>\n",
       "    <tr>\n",
       "      <th>999</th>\n",
       "      <td>81.5544</td>\n",
       "      <td>31180</td>\n",
       "      <td>56260</td>\n",
       "      <td>G</td>\n",
       "    </tr>\n",
       "  </tbody>\n",
       "</table>\n",
       "<p>1000 rows × 4 columns</p>\n",
       "</div>"
      ],
      "text/plain": [
       "          trait_value plot_id trait_id trait_qc\n",
       "0    2.76666666666667   31089    39966        G\n",
       "1                3.56   31016    39966        G\n",
       "2                7.55   31122    39966        G\n",
       "3    3.08888888888889   31129    39966        G\n",
       "4    7.77857142857143   31046    39966        G\n",
       "..                ...     ...      ...      ...\n",
       "995            24.261   31180    56263        G\n",
       "996           33.2564   31180    56252        G\n",
       "997           72.9655   31180    56243        G\n",
       "998           46.8456   31180    56254        G\n",
       "999           81.5544   31180    56260        G\n",
       "\n",
       "[1000 rows x 4 columns]"
      ]
     },
     "execution_count": 10,
     "metadata": {},
     "output_type": "execute_result"
    }
   ],
   "source": [
    "phenotype_data.get_plot_measurements(occurrence_id=68)"
   ]
  },
  {
   "cell_type": "code",
   "execution_count": 11,
   "id": "specific-purple",
   "metadata": {},
   "outputs": [
    {
     "data": {
      "text/plain": [
       "Occurrence(occurrence_id=68, occurrence_name='17S62', experiment_id=54, experiment_name='U Georgia', location_id=15, location='Blairsville GA', rep_count=None, entry_count=None, plot_count=None)"
      ]
     },
     "execution_count": 11,
     "metadata": {},
     "output_type": "execute_result"
    }
   ],
   "source": [
    "phenotype_data.get_occurrence(occurrence_id=68)"
   ]
  }
 ],
 "metadata": {
  "kernelspec": {
   "display_name": "Python 3",
   "language": "python",
   "name": "python3"
  },
  "language_info": {
   "codemirror_mode": {
    "name": "ipython",
    "version": 3
   },
   "file_extension": ".py",
   "mimetype": "text/x-python",
   "name": "python",
   "nbconvert_exporter": "python",
   "pygments_lexer": "ipython3",
   "version": "3.9.2"
  }
 },
 "nbformat": 4,
 "nbformat_minor": 5
}
